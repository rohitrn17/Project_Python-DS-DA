{
  "cells": [
    {
      "cell_type": "markdown",
      "id": "0b55c9a8",
      "metadata": {
        "id": "0b55c9a8"
      },
      "source": [
        "## Fermi Pico Bagel\n",
        "Try playing game and understand the rules : https://communicrossings.com/html/js/pfb.htm\n",
        "\n",
        "## Step 1\n",
        "Store any number in string format(number to be guessed by player) in a variable `original_number`.\n",
        "\n",
        "For Example: original_number = '123'\n"
      ]
    },
    {
      "cell_type": "code",
      "execution_count": null,
      "id": "57a0a2d0",
      "metadata": {
        "id": "57a0a2d0"
      },
      "outputs": [],
      "source": [
        "## Your code goes here\n",
        "original_number ='123'"
      ]
    },
    {
      "cell_type": "markdown",
      "id": "fd43340c",
      "metadata": {
        "id": "fd43340c"
      },
      "source": [
        "## Step 2\n",
        "Take a number as user input and save it in a variable `guess_number`.(Make sure that the datatype of guess_number is same as of original number i.e- `str`)"
      ]
    },
    {
      "cell_type": "code",
      "execution_count": null,
      "id": "2e0075a7",
      "metadata": {
        "colab": {
          "base_uri": "https://localhost:8080/"
        },
        "id": "2e0075a7",
        "outputId": "44326890-f87a-4a09-99d4-093ec6d6fae7"
      },
      "outputs": [
        {
          "name": "stdout",
          "output_type": "stream",
          "text": [
            "enter guess number 120\n"
          ]
        }
      ],
      "source": [
        "## Your code goes here\n",
        "guess_number = input('enter guess number ')"
      ]
    },
    {
      "cell_type": "markdown",
      "id": "22318243",
      "metadata": {
        "id": "22318243"
      },
      "source": [
        "\n",
        "## Step 3\n",
        "Check if total number of digits in `original_number` and `guess_number` is not same(Use `len()` function) then ask user for valid input.(First use `len()` to get total digits in `original_number` and `guess_number`.)"
      ]
    },
    {
      "cell_type": "code",
      "execution_count": null,
      "id": "258e2971",
      "metadata": {
        "colab": {
          "base_uri": "https://localhost:8080/"
        },
        "id": "258e2971",
        "outputId": "3fd537b0-5704-4e6f-bb3f-34b5d046871f"
      },
      "outputs": [
        {
          "output_type": "stream",
          "name": "stdout",
          "text": [
            "Valid\n"
          ]
        }
      ],
      "source": [
        "## Your code goes here\n",
        "if len(original_number)!=len(guess_number):\n",
        "  print('invalid')\n",
        "\n",
        "else:\n",
        "  print('Valid')"
      ]
    },
    {
      "cell_type": "markdown",
      "id": "0c064bda",
      "metadata": {
        "id": "0c064bda"
      },
      "source": [
        "## Step 4\n",
        "Using `set()`, check if the digits are repeated in a `guess_number` .\n",
        "Note that datatype `set` allows unique values only.\n",
        "\n",
        "For ex. if `user_input`is 122, then it should print the string 'Duplicate number'  as digit 2 is repeated."
      ]
    },
    {
      "cell_type": "code",
      "execution_count": null,
      "id": "7b5ef10d",
      "metadata": {
        "id": "7b5ef10d"
      },
      "outputs": [],
      "source": [
        "## Your code goes here\n",
        "if len(original_number)!=len(set(guess_number)):\n",
        "  print('Duplicate number')"
      ]
    },
    {
      "cell_type": "markdown",
      "id": "0514b8d9",
      "metadata": {
        "id": "0514b8d9"
      },
      "source": [
        "## Step 5\n",
        "Check winning condition i.e. if both `guess_number` and `original_number` are same, then print 'Fermi' as many number of times as number of digits in a number and print ' You win !! '.\n"
      ]
    },
    {
      "cell_type": "code",
      "execution_count": null,
      "id": "ab9379a5",
      "metadata": {
        "colab": {
          "base_uri": "https://localhost:8080/"
        },
        "id": "ab9379a5",
        "outputId": "6aa2c1a6-e9a8-45bf-d2cb-4904cd94c909"
      },
      "outputs": [
        {
          "output_type": "stream",
          "name": "stdout",
          "text": [
            "Fermi Fermi Fermi \n",
            "You Win!!\n"
          ]
        }
      ],
      "source": [
        "## Your code goes here\n",
        "\n",
        "if len(set(guess_number))==len(original_number):\n",
        "  print(len(set(guess_number))* \"Fermi \")\n",
        "  print('You Win!!')"
      ]
    },
    {
      "cell_type": "markdown",
      "id": "96eca378",
      "metadata": {
        "id": "96eca378"
      },
      "source": [
        "## Step 6\n",
        "Create empty list called `output` where we will store the output in the form of list.\n",
        "\n",
        "For example: output = [ ' Fermi ', ' Pico ' ,' Pico ' ] ."
      ]
    },
    {
      "cell_type": "code",
      "execution_count": null,
      "id": "c047a839",
      "metadata": {
        "id": "c047a839"
      },
      "outputs": [],
      "source": [
        "## Your code goes here\n",
        "\n",
        "output = []\n",
        "# print(len(set(guess_number))* \" 'Fermi'\")\n",
        "# print(len(set(guess_number))* \" 'Pico'\")\n",
        "\n",
        "# l = set[{}]\n",
        "\n"
      ]
    },
    {
      "cell_type": "markdown",
      "id": "4949309d",
      "metadata": {
        "id": "4949309d"
      },
      "source": [
        "## Step 7\n",
        "Check if any digit and it's position in both `guess_number` and `original_number` are same then append 'Fermi' to `output` list or if only digit matches and not the position then append 'Pico' to `output`.\n"
      ]
    },
    {
      "cell_type": "code",
      "execution_count": null,
      "id": "7dbe3800",
      "metadata": {
        "colab": {
          "base_uri": "https://localhost:8080/"
        },
        "id": "7dbe3800",
        "outputId": "9ce9fa85-b416-40fe-b9fa-ab0c6be5aed2"
      },
      "outputs": [
        {
          "output_type": "stream",
          "name": "stdout",
          "text": [
            "Fermi\n",
            "Fermi\n"
          ]
        }
      ],
      "source": [
        "# ## Your code goes here\n",
        "\n",
        "# if len(set(guess_number))==len(original_number):\n",
        "#   print(len(set(guess_number))*' Fermi')\n",
        "\n",
        "\n",
        "# else:\n",
        "#   print(len(set(guess_number))* ' Pico')\n",
        "\n",
        "for i in range(len(guess_number)):\n",
        "  if (guess_number[i]==original_number[i]):\n",
        "    ## fermi append in output\n",
        "    # print('Fermi')\n",
        "    output.append('Fermi')\n",
        "    print(output)\n",
        "\n",
        "  elif guess_number[i] in original_number:\n",
        "    ## pico app in output\n",
        "    # print('Pico')\n",
        "    output.append('Pico')\n",
        "    print(output)"
      ]
    },
    {
      "cell_type": "markdown",
      "id": "59e62457",
      "metadata": {
        "id": "59e62457"
      },
      "source": [
        "## Step 8\n",
        "Define a variable called `output_string` which has all values from a list `output` with each value separated by space. (Use 'for' loop to get all the values from a list `output`.)"
      ]
    },
    {
      "cell_type": "code",
      "execution_count": null,
      "id": "d15c8f60",
      "metadata": {
        "colab": {
          "base_uri": "https://localhost:8080/"
        },
        "id": "d15c8f60",
        "outputId": "04edb58b-a44e-436f-d506-34bed1621221"
      },
      "outputs": [
        {
          "output_type": "stream",
          "name": "stdout",
          "text": [
            "Fermi Fermi "
          ]
        }
      ],
      "source": [
        "## Your code goes here\n",
        "\n",
        "# output_string = ''\n",
        "\n",
        "for i in output:\n",
        "  output_string = i\n",
        "  print(output_string, end=\" \")\n",
        "\n",
        "# output_string"
      ]
    },
    {
      "cell_type": "markdown",
      "id": "f3f50bef",
      "metadata": {
        "id": "f3f50bef"
      },
      "source": [
        "## Step 9\n",
        "Check if neither any digit nor any position matches i.e. if length of `output` list is zero then print `Bagel`.\n",
        "\n",
        "Otherwise print `output_string`."
      ]
    },
    {
      "cell_type": "code",
      "execution_count": null,
      "id": "3c568356",
      "metadata": {
        "colab": {
          "base_uri": "https://localhost:8080/"
        },
        "id": "3c568356",
        "outputId": "ef5fef76-61ee-4ac8-a0f4-89dda8891218"
      },
      "outputs": [
        {
          "output_type": "stream",
          "name": "stdout",
          "text": [
            "Fermi Fermi \n"
          ]
        }
      ],
      "source": [
        "## Your code goes here\n",
        "\n",
        "if len(output)==0:\n",
        "  print('Bagel')\n",
        "\n",
        "else:\n",
        "  print(output_string)"
      ]
    },
    {
      "cell_type": "markdown",
      "id": "9d4a684d",
      "metadata": {
        "id": "9d4a684d"
      },
      "source": [
        "## Step 10\n",
        "\n",
        "## Complete game\n",
        "Here use continue and break statements at appropriate places."
      ]
    },
    {
      "cell_type": "code",
      "execution_count": 1,
      "id": "79843cdf",
      "metadata": {
        "id": "79843cdf",
        "colab": {
          "base_uri": "https://localhost:8080/"
        },
        "outputId": "9b9660d9-140a-47f5-a78c-fdeee4e6ab93"
      },
      "outputs": [
        {
          "output_type": "stream",
          "name": "stdout",
          "text": [
            "enter guess number 2\n",
            "invalid\n",
            "enter guess number 1\n",
            "invalid\n",
            "enter guess number 7\n",
            "invalid\n",
            "enter guess number 214\n",
            "Pico Pico\n",
            "enter guess number 124\n",
            "Fermi Fermi\n",
            "enter guess number 125\n",
            "Fermi Fermi\n",
            "enter guess number 126\n",
            "Fermi Fermi\n",
            "enter guess number 128\n",
            "Fermi Fermi\n",
            "enter guess number 129\n",
            "Fermi Fermi\n",
            "enter guess number 123\n",
            "Fermi Fermi Fermi\n",
            "You Won !!!\n"
          ]
        }
      ],
      "source": [
        "## step 1\n",
        "original_number ='123'\n",
        "\n",
        "## create infinite while loop\n",
        "while True:\n",
        "\n",
        "## step 2 and step 6\n",
        "   guess_number = input('enter guess number ')\n",
        "\n",
        "   output = []\n",
        "\n",
        "\n",
        "   ## step 3 and step 4 (use continue statement)\n",
        "   if len(original_number)!=len(guess_number):\n",
        "      print('invalid')\n",
        "      continue\n",
        "   else:\n",
        "    for i in range(len(guess_number)):\n",
        "      if (guess_number[i]==original_number[i]):\n",
        "        output.append('Fermi')\n",
        "      elif guess_number[i] in original_number:\n",
        "        output.append('Pico')\n",
        "\n",
        "    if len(output)==0:\n",
        "      print('Bagel')\n",
        "    else:\n",
        "      print(' '.join(output))\n",
        "\n",
        "    if output.count('Fermi') == len(original_number):\n",
        "      print('You Won !!!')\n",
        "      break\n",
        "    else:\n",
        "      continue"
      ]
    },
    {
      "cell_type": "code",
      "source": [],
      "metadata": {
        "id": "2-Sky9fd1Sf6"
      },
      "id": "2-Sky9fd1Sf6",
      "execution_count": null,
      "outputs": []
    }
  ],
  "metadata": {
    "kernelspec": {
      "display_name": "Python 3",
      "language": "python",
      "name": "python3"
    },
    "language_info": {
      "codemirror_mode": {
        "name": "ipython",
        "version": 3
      },
      "file_extension": ".py",
      "mimetype": "text/x-python",
      "name": "python",
      "nbconvert_exporter": "python",
      "pygments_lexer": "ipython3",
      "version": "3.8.8"
    },
    "colab": {
      "provenance": []
    }
  },
  "nbformat": 4,
  "nbformat_minor": 5
}