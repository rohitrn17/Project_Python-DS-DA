{
  "cells": [
    {
      "cell_type": "markdown",
      "metadata": {
        "id": "y5dddMZVQogb"
      },
      "source": [
        "# <center>3 Missionaries 3 Cannibals</center>\n",
        "\n",
        "Create the famous 3 missionaries 3 cannibals crossing the river game.\n",
        "\n",
        "[Play Game!](https://www.novelgames.com/en/missionaries/)\n",
        "\n",
        "## Notebook Content :\n",
        "\n",
        "- **Lesson 1 :**\n",
        "  - Setting up the initial environment of the game.\n",
        "\n",
        "- **Lesson 2 :**\n",
        "  - Adding the required valid and invalid conditions alongwith their operations.\n",
        "\n",
        "- **Lesson 3 :**\n",
        "  - Combining all segments of the code to build the game.\n",
        "\n",
        "- **Lesson 4 :**\n",
        "  - Adding emoticons to complete the game with better interface.\n"
      ]
    },
    {
      "cell_type": "code",
      "execution_count": null,
      "metadata": {
        "id": "vIiUPRhNxhXN"
      },
      "outputs": [],
      "source": [
        "from google.colab import drive\n",
        "drive.mount('/content/drive')"
      ]
    },
    {
      "cell_type": "markdown",
      "metadata": {
        "id": "E6meN3PiQogl"
      },
      "source": [
        "## Rules :\n",
        "- Only 1 or 2 people are permitted on the boat to travel.\n",
        "- We cannot select anymore missionaries or cannibals on the boat than the available number of missionaries or cannibals on either side.\n",
        "- You **lose** if the number of cannibals exceeds the number of missionaries on either side.\n",
        "- You **win** if you successfully transfer all the missionaries and cannibals from right side to left side."
      ]
    },
    {
      "cell_type": "markdown",
      "metadata": {
        "id": "1fGHJcbTQogm"
      },
      "source": [
        "## <center>**Lesson 1**</center>\n",
        "\n",
        "#### <center>**Setting up the initial environment of the game**</center>"
      ]
    },
    {
      "cell_type": "markdown",
      "metadata": {
        "id": "2qAeNA_ZQogn"
      },
      "source": [
        "In the initial conditions of the game, all the missionaries and cannibals are on the right side alongwith the boat and the left side is completely empty. We will mimic this condition by defining variables for them.\n",
        "\n",
        "### **Define initial variables :**\n",
        "\n",
        "- Define variable `boat_side` as 'Right' initially. This depicts the boat being placed at right side.\n",
        "- Create numeric variables for number of missionaries and cannibals\n",
        "   on the right and left side.\n",
        "   So there are 3 missionaries and cannibals on right side and 0 on the left side.\n",
        "- **List of Variables :**\n",
        "`boat_side, missionaries_on_right, cannibals_on_right, missionaries_on_left, cannibals_on_left`\n"
      ]
    },
    {
      "cell_type": "code",
      "execution_count": null,
      "metadata": {
        "id": "AmjfaRdgQogo"
      },
      "outputs": [],
      "source": [
        "1 #### Your code ####\n",
        "\n",
        "boat_side='Right'\n",
        "M_right=3\n",
        "C_right=3\n",
        "M_left=0\n",
        "C_left=0\n"
      ]
    },
    {
      "cell_type": "markdown",
      "metadata": {
        "id": "544yxFpIQogp"
      },
      "source": [
        "Now display the inital conditions of the game using the following stylish manner :<br>\n",
        "\n",
        "`M = 0 C = 0  |-----B|  M = 3 C = 3`<br>\n",
        "\n",
        "Make sure to not hardcode all values."
      ]
    },
    {
      "cell_type": "code",
      "execution_count": null,
      "metadata": {
        "colab": {
          "base_uri": "https://localhost:8080/"
        },
        "id": "EGp8GNBhQogq",
        "outputId": "4a13473f-7d52-4ba1-c755-ed044faa1b4e"
      },
      "outputs": [
        {
          "name": "stdout",
          "output_type": "stream",
          "text": [
            "M = 0 C= 0 ---B M= 3 C= 3\n"
          ]
        }
      ],
      "source": [
        "2 #### Your code ####\n",
        "# M_left = 0\n",
        "# C_left = 0\n",
        "# print(f'------{boat_side}')\n",
        "# M_right  = 3\n",
        "# C_right  = 3\n",
        "print(\"M =\",M_left,\"C=\",C_left,'---B M=',M_right,\"C=\",C_right)"
      ]
    },
    {
      "cell_type": "markdown",
      "metadata": {
        "id": "PObVD9tdQogq"
      },
      "source": [
        "## <center>**Lesson 2**</center>\n",
        "#### <center>**Adding the required valid and invalid conditions alongwith their operations**</center>\n"
      ]
    },
    {
      "cell_type": "markdown",
      "metadata": {
        "id": "2aDEi-SqQogq"
      },
      "source": [
        "Take input from the user for entering the number of missionaries and cannibals on the boat.<br>\n",
        "Store these values in 2 variables : `missionaries, cannibals`\n",
        "\n",
        "This part depicts the process of tapping the `missionaries` and `cannibals` on to the boat.  \n",
        "\n",
        "**Note :** Make sure you pass the appropriate message in the input function that assists user in entering the values.\n",
        "\n",
        "**Note :** The following code cells will be common for both right side and left side required in Lesson 3 and Lesson 4."
      ]
    },
    {
      "cell_type": "code",
      "execution_count": null,
      "metadata": {
        "colab": {
          "base_uri": "https://localhost:8080/"
        },
        "id": "GEglqSjrQogr",
        "outputId": "d93c778e-6ee1-41db-ca82-5a8710ff1145"
      },
      "outputs": [
        {
          "name": "stdout",
          "output_type": "stream",
          "text": [
            "Missionaries:5\n",
            "Canibals:5\n"
          ]
        }
      ],
      "source": [
        "3 ### Your code ###\n",
        "m=int(input('Missionaries:'))\n",
        "c=int(input('Canibals:'))"
      ]
    },
    {
      "cell_type": "markdown",
      "metadata": {
        "id": "fVfioCyZQogs"
      },
      "source": [
        "**Invalid Move 1 :**\n",
        "\n",
        "Check if the maximum number of people on the boat are 1 or 2 only else print \"Invalid move 1\""
      ]
    },
    {
      "cell_type": "code",
      "execution_count": null,
      "metadata": {
        "colab": {
          "base_uri": "https://localhost:8080/"
        },
        "id": "50I3KT4hQogs",
        "outputId": "e3b9f6e4-94b8-4d6c-85c1-9f5d0ac56a19"
      },
      "outputs": [
        {
          "name": "stdout",
          "output_type": "stream",
          "text": [
            "Max People in Boat:\n"
          ]
        }
      ],
      "source": [
        "4 ### Your code ###\n",
        "t= m + c\n",
        "if t>2:\n",
        "  print('Max People in Boat:')\n",
        "else:\n",
        "  print('invalid move 1')"
      ]
    },
    {
      "cell_type": "markdown",
      "metadata": {
        "id": "Oe1ymzIIQogt"
      },
      "source": [
        "###  <center>**Codeflow for Right Side**</center>"
      ]
    },
    {
      "cell_type": "markdown",
      "metadata": {
        "id": "SoyMGHXrZd28"
      },
      "source": [
        "Add if - else statement to check the value of `boat_side` variable and display if the boat is on right side.\n",
        "\n",
        "This is done to confirm the boat side before carrying out the required operations."
      ]
    },
    {
      "cell_type": "code",
      "execution_count": null,
      "metadata": {
        "colab": {
          "base_uri": "https://localhost:8080/"
        },
        "id": "E0035i_CZasN",
        "outputId": "d9ea211b-bb7d-40ed-b5dc-46bbb52f9c87"
      },
      "outputs": [
        {
          "name": "stdout",
          "output_type": "stream",
          "text": [
            "Boat is right side\n"
          ]
        }
      ],
      "source": [
        "5 ### Your code ###\n",
        "if boat_side=='Right':\n",
        "  print('Boat is right side')\n",
        "else:\n",
        "  print('invalid')"
      ]
    },
    {
      "cell_type": "markdown",
      "metadata": {
        "id": "Y8sYOlsqZolz"
      },
      "source": [
        "**Invalid Move 2 :**\n",
        "\n",
        "Check if the number of missionaries or cannibals entered on the boat are greater than the available missionaries or cannibals on the right side. If yes, print \"Invalid move 2\"."
      ]
    },
    {
      "cell_type": "code",
      "execution_count": null,
      "metadata": {
        "colab": {
          "base_uri": "https://localhost:8080/"
        },
        "id": "PzW5raCfQogt",
        "outputId": "f7df1fac-1300-4614-fda2-c2de7b46df22"
      },
      "outputs": [
        {
          "name": "stdout",
          "output_type": "stream",
          "text": [
            "Invalid Move 2\n"
          ]
        }
      ],
      "source": [
        "6 ### Your code ###\n",
        "if m>M_right or c>C_right:\n",
        "  print('Invalid Move 2')"
      ]
    },
    {
      "cell_type": "markdown",
      "metadata": {
        "id": "d6wYZ7DLQogu"
      },
      "source": [
        "When the boat travels from right side to left side :\n",
        "- Number of missionaries and cannibals reduce from the right side.\n",
        "- Number of missionaries and cannibals increase on the left side."
      ]
    },
    {
      "cell_type": "code",
      "execution_count": null,
      "metadata": {
        "id": "rgbWSeUBQogu"
      },
      "outputs": [],
      "source": [
        "7 ### Your code ###\n",
        "\n",
        "M_right = M_right - m\n",
        "C_right = C_right - c\n",
        "M_left = M_left + m\n",
        "C_left = C_left + c\n"
      ]
    },
    {
      "cell_type": "markdown",
      "metadata": {
        "id": "US5ADpenQogv"
      },
      "source": [
        "Display in the same format as mentioned above.\n",
        "\n",
        "`M = 1 C = 1  |B-----|  M = 2 C = 2`\n",
        "\n",
        "Change the `boat_side` variable to 'Left' aswell.\n",
        "\n",
        "This variable overwrite is the equivalent of the boat travelling from right side to left side."
      ]
    },
    {
      "cell_type": "code",
      "execution_count": null,
      "metadata": {
        "colab": {
          "base_uri": "https://localhost:8080/"
        },
        "id": "roWkGTzyQogv",
        "outputId": "495c4208-1e24-4060-97d0-77e46581e56c"
      },
      "outputs": [
        {
          "name": "stdout",
          "output_type": "stream",
          "text": [
            "M = 5 C= 5 ---B M= -2 C= -2\n"
          ]
        }
      ],
      "source": [
        "8 ### Your code ###\n",
        "print(\"M =\",M_left,\"C=\",C_left,'---B M=',M_right,\"C=\",C_right)\n",
        "boat_side = 'Left'"
      ]
    },
    {
      "cell_type": "markdown",
      "metadata": {
        "id": "WWKdADPJQogw"
      },
      "source": [
        "###  <center>**Codeflow for Left Side**</center>\n"
      ]
    },
    {
      "cell_type": "markdown",
      "metadata": {
        "id": "94_ZSJi8dSvd"
      },
      "source": [
        "Add if - else statement to check the value of `boat_side` variable and display if the boat is on left side.\n",
        "\n",
        "This is done to confirm the boat side before carrying out the required operations."
      ]
    },
    {
      "cell_type": "code",
      "execution_count": null,
      "metadata": {
        "colab": {
          "base_uri": "https://localhost:8080/"
        },
        "id": "zGgX00C-dSIt",
        "outputId": "9822d67d-bbac-47e6-f0a9-79f02c0e6f2d"
      },
      "outputs": [
        {
          "name": "stdout",
          "output_type": "stream",
          "text": [
            "Boat is on left side\n"
          ]
        }
      ],
      "source": [
        "9 ### Your code ###\n",
        "if boat_side=='Left':\n",
        "  print('Boat is on left side')\n",
        "else:\n",
        "  print('invalid')\n"
      ]
    },
    {
      "cell_type": "markdown",
      "metadata": {
        "id": "hrTq7kv7dQ2u"
      },
      "source": [
        "**Invalid Move 2 :**\n",
        "\n",
        "Check if the number of missionaries or cannibals entered on the boat are greater than the available missionaries or cannibals on the left side. If yes, print \"Invalid move 2\"."
      ]
    },
    {
      "cell_type": "code",
      "execution_count": null,
      "metadata": {
        "id": "XlrT8EEaQogw"
      },
      "outputs": [],
      "source": [
        "10 ### Your code ###\n",
        "if m>M_Left or c>C_Left:\n",
        "  print('invalid Move 2')"
      ]
    },
    {
      "cell_type": "markdown",
      "metadata": {
        "id": "gdYiQ1WXQogw"
      },
      "source": [
        "When the boat travels from left side to right side :\n",
        "- Number of missionaries and cannibals reduce from the left side.\n",
        "- Number of missionaries and cannibals increase on the right side."
      ]
    },
    {
      "cell_type": "code",
      "execution_count": null,
      "metadata": {
        "id": "z196LJKBQogw"
      },
      "outputs": [],
      "source": [
        "11 ### Your code ###\n",
        "\n",
        "M_right = M_right + m\n",
        "C_right = C_right + c\n",
        "M_left = M_left - m\n",
        "C_left = C_left - c\n"
      ]
    },
    {
      "cell_type": "markdown",
      "metadata": {
        "id": "oB-3nBCkQogx"
      },
      "source": [
        "Display in the same format as mentioned above.\n",
        "\n",
        "`M = 0 C = 0  |-----B|  M = 3 C = 3`\n",
        "\n",
        "Change the `boat_side` variable to 'Right'.\n",
        "\n",
        "This marks the boat being travelled back to right side."
      ]
    },
    {
      "cell_type": "code",
      "execution_count": null,
      "metadata": {
        "colab": {
          "base_uri": "https://localhost:8080/"
        },
        "id": "mtt1iSkoQogx",
        "outputId": "a6aa2ecf-4654-4cb5-b56c-9d9bccd344d6"
      },
      "outputs": [
        {
          "name": "stdout",
          "output_type": "stream",
          "text": [
            "M = 0 C= 0 ---B M= 3 C= 3\n"
          ]
        }
      ],
      "source": [
        "12 ### Your code ###\n",
        "print(\"M =\",M_left,\"C=\",C_left,'---B M=',M_right,\"C=\",C_right)\n",
        "boat_side = 'Right'"
      ]
    },
    {
      "cell_type": "markdown",
      "metadata": {
        "id": "WKu9fCDCgvPb"
      },
      "source": [
        "###  <center>**Conditions for Losing the Game**</center>"
      ]
    },
    {
      "cell_type": "markdown",
      "metadata": {
        "id": "sNJhIGL6Qogz"
      },
      "source": [
        "Add conditions to check if the game is lost :\n",
        "- If the number of missionaries is less than the number of cannibals on the right side and the number of missionaries on right side are greater than 0, then print `'YOU LOSE'`.\n",
        "- If the number of missionaries is less than the number of cannibals on the left side and the number of missionaries on left side are greater than 0, then print `'YOU LOSE'`."
      ]
    },
    {
      "cell_type": "code",
      "execution_count": null,
      "metadata": {
        "id": "zKqb4BADQog0"
      },
      "outputs": [],
      "source": [
        "13 ### Your code ###\n",
        "if M_right<C_right and M_right>0:\n",
        "  print('YOU LOSE')\n",
        "elif M_left<C_left and M_left>0:\n",
        "  print('YOU LOSE')\n"
      ]
    },
    {
      "cell_type": "markdown",
      "metadata": {
        "id": "3JdBVqIWhdwj"
      },
      "source": [
        "###  <center>**Conditions for Winning the Game**</center>"
      ]
    },
    {
      "cell_type": "markdown",
      "metadata": {
        "id": "aS47ad6CQog0"
      },
      "source": [
        "Add conditions to check if the game is won :\n",
        "- If the number of missionaries and cannibals on the left side are equal to 3, then print `'YOU WIN'`."
      ]
    },
    {
      "cell_type": "code",
      "execution_count": null,
      "metadata": {
        "id": "5dW6W8gyQog0"
      },
      "outputs": [],
      "source": [
        "14 ### Your code ###\n",
        "\n",
        "if M_left==C_left==3:\n",
        "  print('YOU WIN')"
      ]
    },
    {
      "cell_type": "markdown",
      "metadata": {
        "id": "Si__xVHFQog1"
      },
      "source": [
        "## <center>**Lesson 3**</center>\n",
        "#### <center>**Combining all segments of the code to build the game**</center>"
      ]
    },
    {
      "cell_type": "markdown",
      "metadata": {
        "id": "e7uW2kToiKsv"
      },
      "source": [
        "### **Structure of the Combined Code :**\n",
        "\n",
        "<center>\n",
        "\n",
        "```\n",
        "    Setup the inital game conditions and display your game board in the below format.\n",
        "     \n",
        "        M = 0 C = 0  |-----B|  M = 3 C = 3\n",
        "```\n",
        "</center>\n",
        "\n",
        " boat_side == \"Right\":\n",
        "\n",
        "<center>\n",
        "\n",
        "```\n",
        "    Check the maximum number of people permitted to travel on the boat.    \n",
        "```\n",
        "```\n",
        "    Now check if the number of missionaries or cannibals entered on the\n",
        "    boat are more than the available missionaries and cannibals on the  \n",
        "    right side.\n",
        "```   \n",
        "```\n",
        "    When the boat travels from the right side, missionaries and cannibals\n",
        "    reduce from the right side and increase on the left side.    \n",
        "```     \n",
        "```\n",
        "    Display your game board in the below format.\n",
        "    \n",
        "        M = 0 C = 0  |B-----|  M = 3 C = 3\n",
        "\n",
        "    Make the necessary changes that mark the side change from right side to left side.\n",
        "```\n",
        "</center>\n",
        "\n",
        " boat_side == \"Left\":\n",
        "\n",
        "<center>\n",
        "\n",
        "```\n",
        "    Check the maximum number of people permitted to travel on the boat.    \n",
        "```\n",
        "```\n",
        "    Now check if the number of missionaries or cannibals entered on the\n",
        "    boat are more than the available missionaries and cannibals on the  \n",
        "    left side.\n",
        "```   \n",
        "```\n",
        "    When the boat travels from the left side, missionaries and cannibals\n",
        "    reduce from the left side and increase on the right side.    \n",
        "```\n",
        "```\n",
        "    Display your game board in the below format.\n",
        "    \n",
        "    M = 0 C = 0  |-----B|  M = 3 C = 3\n",
        "\n",
        "    Make the necessary changes that mark the side change from left side to right side.\n",
        "```\n",
        "</center>"
      ]
    },
    {
      "cell_type": "markdown",
      "metadata": {
        "id": "IiNzyXCJQog1"
      },
      "source": [
        "The game must go on until you win or lose, so lets put all the conditions inside an infinite loop :\n",
        "\n",
        "- Connect all the segments of the code according to the above structure and do the necessary amendments.\n",
        "- If a move is invalid then without making any changes, you have to `continue`.\n",
        "\n",
        "  This is done so that we get a second chance to change our inputs and start over from the same point without losing previous amendments.\n",
        "\n",
        "- If you Win or Lose the game `break` the loop and get out of it.\n",
        "- Check the winning and losing condition everytime after the boat has travelled.\n",
        "- After getting out of the loop print `Game Over`."
      ]
    },
    {
      "cell_type": "code",
      "execution_count": null,
      "metadata": {
        "colab": {
          "base_uri": "https://localhost:8080/"
        },
        "id": "xUjfSzZuQog1",
        "outputId": "089a8bcc-9698-489d-b691-ce8ed2737332"
      },
      "outputs": [
        {
          "output_type": "stream",
          "name": "stdout",
          "text": [
            "💂 0 👹 0 🌊🌊🌊🚢 💂 3 👹 3\n",
            "Missionaries:1\n",
            "Canibals:1\n",
            "Boat is on right side\n",
            "💂 1 👹 1 🚢🌊🌊🌊 💂 2 👹 2\n",
            "Missionaries:1\n",
            "Canibals:1\n",
            "Boat is on left side\n",
            "💂 0 👹 0 🌊🌊🌊🚢 💂 3 👹 3\n",
            "Missionaries:2\n",
            "Canibals:0\n",
            "Boat is on right side\n",
            "💂 2 👹 0 🚢🌊🌊🌊 💂 1 👹 3\n",
            "YOU LOSE\n"
          ]
        }
      ],
      "source": [
        "\n",
        "boat_side='Right'\n",
        "M_right=3\n",
        "C_right=3\n",
        "M_left=0\n",
        "C_left=0\n",
        "\n",
        "\n",
        "print(\"💂\",M_left,\"👹\",C_left,'🌊🌊🌊🚢 💂',M_right,\"👹\",C_right)\n",
        "while True:\n",
        "      m=int(input('Missionaries:'))\n",
        "      c=int(input('Canibals:'))\n",
        "\n",
        "      t= m + c\n",
        "      if t>2 or t<1:\n",
        "            print('invalid move 1')\n",
        "            continue\n",
        "\n",
        "      if boat_side=='Right':\n",
        "        print('Boat is on right side')\n",
        "        if m>M_right or c>C_right:\n",
        "          print('Invalid Move 2')\n",
        "\n",
        "          continue\n",
        "\n",
        "        M_right = M_right - m\n",
        "        C_right = C_right - c\n",
        "        M_left = M_left + m\n",
        "        C_left = C_left + c\n",
        "        print(\"💂\",M_left,\"👹\",C_left,'🚢🌊🌊🌊 💂',M_right,\"👹\",C_right)\n",
        "        boat_side = 'Left'\n",
        "\n",
        "      elif boat_side=='Left':\n",
        "        print('Boat is on left side')\n",
        "        if m>M_left or c>C_left:\n",
        "          print('invalid Move 2')\n",
        "\n",
        "          continue\n",
        "\n",
        "\n",
        "\n",
        "        M_right = M_right + m\n",
        "        C_right = C_right + c\n",
        "        M_left = M_left - m\n",
        "        C_left = C_left - c\n",
        "        print(\"💂\",M_left,\"👹\",C_left,'🌊🌊🌊🚢 💂',M_right,\"👹\",C_right)\n",
        "        boat_side = 'Right'\n",
        "\n",
        "      if M_right<C_right and M_right>0:\n",
        "        print('YOU LOSE')\n",
        "        break\n",
        "      elif M_left<C_left and M_left>0:\n",
        "        print('YOU LOSE')\n",
        "        break\n",
        "\n",
        "      if M_left==C_left==3:\n",
        "        print('YOU WIN')\n",
        "        break"
      ]
    },
    {
      "cell_type": "markdown",
      "metadata": {
        "id": "FZHREN7aVHTa"
      },
      "source": [
        "## <center>**Lesson 4**</center>\n",
        "\n",
        "####<center>**Adding emoticons to complete the game with better interface**</center>"
      ]
    },
    {
      "cell_type": "markdown",
      "metadata": {
        "id": "-hIyuzsJQog3"
      },
      "source": [
        "###  Let's make it pretty!\n",
        "\n",
        "#### Clear Screen :\n",
        "- This is a `function` that is utilized to clear the screen after every input statement and helps us to reduce the huge output generated after playing the game built in Lesson 3.\n",
        "  \n",
        "- Copy the following code snippet and paste at the top of your code:\n",
        "\n",
        "  `from IPython.display import clear_output`\n",
        "\n",
        "- Decide its place in the code such that after using it, we should be able to see the changes done after carrying out all the operations of that side and assists us in deciding our next move for the opposite side.\n",
        "\n",
        "  `clear_output()`\n",
        "\n",
        "#### Adding Emoticons :\n",
        "- Use the power of unicodes and emoticons.\n",
        "- Use of string replication.\n",
        "- **Hint :** The unicodes are in string datatype string and display using print function.\n",
        "\n",
        "**The output should look like this after making all the changes**\n",
        "\n",
        "|🌊🌊🌊🌊🌊🚢|💂💂💂👹👹👹\n",
        "<br>\n",
        "After the first move, if we input 1 missionary and 1 cannibal the output will be:\n",
        "\n",
        "💂👹|🌊🌊🌊🌊🌊🚢|💂💂👹👹\n",
        "\n",
        "##### Unicodes\n",
        "💂 = '\\U0001f482'\n",
        "\n",
        "👹 = '\\U0001f479'\n",
        "\n",
        "🌊 = '\\U0001f30a'\n",
        "\n",
        "🚢 = '\\U0001f6A2'"
      ]
    },
    {
      "cell_type": "code",
      "execution_count": null,
      "metadata": {
        "colab": {
          "base_uri": "https://localhost:8080/"
        },
        "id": "6YmoxYT2_a1o",
        "outputId": "6bd1865d-2659-4d20-e57c-f8d29b0f908c"
      },
      "outputs": [
        {
          "name": "stdout",
          "output_type": "stream",
          "text": [
            "💂 0 👹 0 🌊🌊🌊🚢 💂 3 👹 3\n"
          ]
        }
      ],
      "source": [
        "print(\"💂\",M_left,\"👹\",C_left,'🌊🌊🌊🚢 💂',M_right,\"👹\",C_right)"
      ]
    },
    {
      "cell_type": "code",
      "execution_count": null,
      "metadata": {
        "colab": {
          "base_uri": "https://localhost:8080/"
        },
        "id": "fKl4zZK9_omb",
        "outputId": "47b01f4a-8d61-4a2f-ee2a-6442c19b37a0"
      },
      "outputs": [
        {
          "name": "stdout",
          "output_type": "stream",
          "text": [
            "💂 0 👹 0 🚢🌊🌊🌊 💂 3 👹 3\n"
          ]
        }
      ],
      "source": [
        "print(\"💂\",M_left,\"👹\",C_left,'🚢🌊🌊🌊 💂',M_right,\"👹\",C_right)"
      ]
    },
    {
      "cell_type": "code",
      "execution_count": null,
      "metadata": {
        "id": "Cadm-2d0Qog4"
      },
      "outputs": [],
      "source": [
        "# Print in extra stylish manner\n",
        "\n",
        "# Display the number of missionaries based on their count on the left side using string replication\n",
        "### Your code ###\n",
        "\n",
        "\n",
        "# Display the number of cannibals based on their count on the left side using string replication\n",
        "### Your code ###\n",
        "\n",
        "\n",
        "# Display the waves emoji for 4 times using string replication\n",
        "### Your code ###\n",
        "\n",
        "\n",
        "# Display the boat using string replication\n",
        "### Your code ###\n",
        "\n",
        "\n",
        "# Display the number of missionaries based on their count on the right side using string replication\n",
        "### Your code ###\n",
        "\n",
        "\n",
        "# Display the number of cannibals based on their count on the right side using string replication\n",
        "### Your code ###\n",
        "\n"
      ]
    },
    {
      "cell_type": "markdown",
      "metadata": {
        "id": "WpcPEa3JQog4"
      },
      "source": [
        "### <center>**Complete Code**</center>\n"
      ]
    },
    {
      "cell_type": "code",
      "execution_count": null,
      "metadata": {
        "id": "ET8viXLG0e2K"
      },
      "outputs": [],
      "source": [
        "### Your Code ###"
      ]
    },
    {
      "cell_type": "markdown",
      "metadata": {
        "id": "VDdKbLpalpUS"
      },
      "source": [
        "# <center>Happy Learning!</center>"
      ]
    }
  ],
  "metadata": {
    "colab": {
      "provenance": []
    },
    "kernelspec": {
      "display_name": "Python 3",
      "language": "python",
      "name": "python3"
    },
    "language_info": {
      "codemirror_mode": {
        "name": "ipython",
        "version": 3
      },
      "file_extension": ".py",
      "mimetype": "text/x-python",
      "name": "python",
      "nbconvert_exporter": "python",
      "pygments_lexer": "ipython3",
      "version": "3.8.3"
    },
    "toc": {
      "base_numbering": 1,
      "nav_menu": {},
      "number_sections": true,
      "sideBar": true,
      "skip_h1_title": false,
      "title_cell": "Table of Contents",
      "title_sidebar": "Contents",
      "toc_cell": false,
      "toc_position": {},
      "toc_section_display": true,
      "toc_window_display": false
    }
  },
  "nbformat": 4,
  "nbformat_minor": 0
}